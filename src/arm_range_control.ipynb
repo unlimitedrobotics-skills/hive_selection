{
 "cells": [
  {
   "cell_type": "markdown",
   "metadata": {},
   "source": [
    "### **Range Control Tests for the Arms** ###"
   ]
  },
  {
   "cell_type": "markdown",
   "metadata": {},
   "source": [
    "**Imports and Controllers**"
   ]
  },
  {
   "cell_type": "code",
   "execution_count": null,
   "metadata": {},
   "outputs": [],
   "source": [
    "#Raya Imports\n",
    "from raya.standalone_handler import StandaloneHandler\n",
    "from raya.enumerations import ANG_UNIT, POS_UNIT\n",
    "\n",
    "#Other Imports\n",
    "import matplotlib.pyplot as plt\n",
    "import asyncio"
   ]
  },
  {
   "cell_type": "code",
   "execution_count": null,
   "metadata": {},
   "outputs": [],
   "source": [
    "# Start handler\n",
    "raya = StandaloneHandler()\n",
    "await raya.start()"
   ]
  },
  {
   "cell_type": "code",
   "execution_count": null,
   "metadata": {},
   "outputs": [],
   "source": [
    "# Enable controllers\n",
    "arms = await raya.enable_controller('arms')"
   ]
  },
  {
   "cell_type": "markdown",
   "metadata": {},
   "source": [
    "**Helpers**"
   ]
  },
  {
   "cell_type": "code",
   "execution_count": null,
   "metadata": {},
   "outputs": [],
   "source": [
    "async def check_pick(arm, arm_joints, arm_joints_start_pose, pick, post_pick):\n",
    "        '''\n",
    "            INPUTS:\n",
    "                pick - The pose to execute for picking the item ; dict\n",
    "                post_pick - The pose to execute for lifting the item ; dict\n",
    "            \n",
    "            OUTPUTS:\n",
    "                The function returns a boolean - True or False for valid or\n",
    "                                                 invalid pick sequence\n",
    "        '''\n",
    "        try:\n",
    "            res= await arms.is_pose_valid(arm= arm,\n",
    "                                            **pick,\n",
    "                                            name_trajectory ='pick_hive',\n",
    "                                            save_trajectory = True,\n",
    "                                            start_joints = arm_joints_start_pose,\n",
    "                                            name_start_joints = arm_joints,\n",
    "                                            use_start_joints = True,\n",
    "                                            wait= True\n",
    "                                          )\n",
    "            \n",
    "            joints = arms.convert_angle_joints_to_degrees(\n",
    "                arm = arm,\n",
    "                name_joints = arm_joints,\n",
    "                angle_joints = list(res[2])\n",
    "            )\n",
    "            \n",
    "            res = await arms.is_pose_valid(arm= arm,\n",
    "                                            **post_pick, \n",
    "                                            cartesian_path = True,\n",
    "                                            name_trajectory = 'post_pick_hive',\n",
    "                                            save_trajectory = True,\n",
    "                                            start_joints = joints,\n",
    "                                            name_start_joints = arm_joints,\n",
    "                                            use_start_joints = True,\n",
    "                                            wait = True\n",
    "                                           )\n",
    "            if res[1]<0.9:\n",
    "                return False\n",
    "            \n",
    "        except Exception as e:\n",
    "            print(e)\n",
    "            return False\n",
    "        \n",
    "        return True\n",
    "\n",
    "\n",
    "async def plot_range(arm, arm_joints, arm_joints_start_pose, picks, post_pick):\n",
    "     fig, axis = plt.subplots(3,3)\n",
    "     for pick in picks:\n",
    "        is_pick_valid = await check_pick(arm, arm_joints, arm_joints_start_pose, pick, post_pick)\n",
    "        \n"
   ]
  }
 ],
 "metadata": {
  "kernelspec": {
   "display_name": "base",
   "language": "python",
   "name": "python3"
  },
  "language_info": {
   "name": "python",
   "version": "3.9.13"
  }
 },
 "nbformat": 4,
 "nbformat_minor": 2
}
